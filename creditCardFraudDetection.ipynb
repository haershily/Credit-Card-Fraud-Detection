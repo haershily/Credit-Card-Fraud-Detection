{
 "cells": [
  {
   "cell_type": "code",
   "execution_count": 1,
   "metadata": {
    "collapsed": true
   },
   "outputs": [],
   "source": [
    "import numpy as np\n",
    "import matplotlib.pyplot as plt\n",
    "import pandas as pd"
   ]
  },
  {
   "cell_type": "code",
   "execution_count": 2,
   "metadata": {
    "collapsed": true
   },
   "outputs": [],
   "source": [
    "dataset = pd.read_csv('Credit_Card_Applications.csv')\n",
    "X = dataset.iloc[:, :-1].values\n",
    "y = dataset.iloc[:, -1].values"
   ]
  },
  {
   "cell_type": "code",
   "execution_count": 3,
   "metadata": {
    "collapsed": true
   },
   "outputs": [],
   "source": [
    "from sklearn.preprocessing import MinMaxScaler\n",
    "sc = MinMaxScaler(feature_range = (0, 1))\n",
    "X = sc.fit_transform(X)"
   ]
  },
  {
   "cell_type": "code",
   "execution_count": 4,
   "metadata": {
    "collapsed": true
   },
   "outputs": [],
   "source": [
    "from minisom import MiniSom\n",
    "som = MiniSom(x = 10, y = 10, input_len = 15, sigma = 1.0, learning_rate = 0.5)\n",
    "som.random_weights_init(X)\n",
    "som.train_random(data = X, num_iteration = 100)"
   ]
  },
  {
   "cell_type": "code",
   "execution_count": 14,
   "metadata": {},
   "outputs": [
    {
     "data": {
      "text/plain": [
       "<matplotlib.colorbar.Colorbar at 0x1a152ec2e8>"
      ]
     },
     "execution_count": 14,
     "metadata": {},
     "output_type": "execute_result"
    }
   ],
   "source": [
    "from pylab import bone, pcolor, colorbar, plot, show\n",
    "bone()\n",
    "pcolor(som.distance_map().T)\n",
    "colorbar()"
   ]
  },
  {
   "cell_type": "code",
   "execution_count": 15,
   "metadata": {},
   "outputs": [
    {
     "data": {
      "image/png": "[encoded data removed]",
      "text/plain": [
       "<matplotlib.figure.Figure at 0x1a13a630f0>"
      ]
     },
     "metadata": {},
     "output_type": "display_data"
    }
   ],
   "source": [
    "markers = ['o', 's']\n",
    "colors = ['r', 'g']\n",
    "for i, x in enumerate(X):\n",
    "    w = som.winner(x)\n",
    "    plot(w[0] + 0.5,\n",
    "         w[1] + 0.5,\n",
    "         markers[y[i]],\n",
    "         markeredgecolor = colors[y[i]],\n",
    "         markerfacecolor = 'None',\n",
    "         markersize = 10,\n",
    "         markeredgewidth = 2)\n",
    "show()"
   ]
  },
  {
   "cell_type": "code",
   "execution_count": 17,
   "metadata": {},
   "outputs": [
    {
     "data": {
      "text/plain": [
       "array([[  1.56085950e+07,   0.00000000e+00,   3.04200000e+01,\n",
       "          1.37500000e+00,   2.00000000e+00,   9.00000000e+00,\n",
       "          8.00000000e+00,   4.00000000e-02,   0.00000000e+00,\n",
       "          1.00000000e+00,   3.00000000e+00,   0.00000000e+00,\n",
       "          2.00000000e+00,   0.00000000e+00,   3.40000000e+01],\n",
       "       [  1.57611580e+07,   0.00000000e+00,   1.65000000e+01,\n",
       "          1.25000000e+00,   2.00000000e+00,   1.10000000e+01,\n",
       "          4.00000000e+00,   2.50000000e-01,   0.00000000e+00,\n",
       "          1.00000000e+00,   1.00000000e+00,   0.00000000e+00,\n",
       "          2.00000000e+00,   1.08000000e+02,   9.90000000e+01],\n",
       "       [  1.57117420e+07,   0.00000000e+00,   2.30000000e+01,\n",
       "          1.83500000e+00,   2.00000000e+00,   5.00000000e+00,\n",
       "          3.00000000e+00,   0.00000000e+00,   0.00000000e+00,\n",
       "          1.00000000e+00,   1.00000000e+00,   0.00000000e+00,\n",
       "          2.00000000e+00,   2.00000000e+02,   5.40000000e+01],\n",
       "       [  1.56661660e+07,   0.00000000e+00,   2.00800000e+01,\n",
       "          1.25000000e-01,   2.00000000e+00,   1.10000000e+01,\n",
       "          4.00000000e+00,   1.00000000e+00,   0.00000000e+00,\n",
       "          1.00000000e+00,   1.00000000e+00,   0.00000000e+00,\n",
       "          2.00000000e+00,   2.40000000e+02,   7.69000000e+02],\n",
       "       [  1.56650870e+07,   0.00000000e+00,   1.82500000e+01,\n",
       "          1.00000000e+01,   2.00000000e+00,   9.00000000e+00,\n",
       "          4.00000000e+00,   1.00000000e+00,   0.00000000e+00,\n",
       "          1.00000000e+00,   1.00000000e+00,   0.00000000e+00,\n",
       "          2.00000000e+00,   1.20000000e+02,   2.00000000e+00],\n",
       "       [  1.56480690e+07,   0.00000000e+00,   2.45000000e+01,\n",
       "          1.75000000e+00,   1.00000000e+00,   8.00000000e+00,\n",
       "          4.00000000e+00,   1.65000000e-01,   0.00000000e+00,\n",
       "          0.00000000e+00,   0.00000000e+00,   0.00000000e+00,\n",
       "          2.00000000e+00,   1.32000000e+02,   1.00000000e+00],\n",
       "       [  1.57315860e+07,   0.00000000e+00,   2.95000000e+01,\n",
       "          2.00000000e+00,   1.00000000e+00,   1.00000000e+01,\n",
       "          8.00000000e+00,   2.00000000e+00,   0.00000000e+00,\n",
       "          0.00000000e+00,   0.00000000e+00,   0.00000000e+00,\n",
       "          2.00000000e+00,   2.56000000e+02,   1.80000000e+01],\n",
       "       [  1.55756050e+07,   0.00000000e+00,   2.47500000e+01,\n",
       "          1.36650000e+01,   2.00000000e+00,   1.10000000e+01,\n",
       "          8.00000000e+00,   1.50000000e+00,   0.00000000e+00,\n",
       "          0.00000000e+00,   0.00000000e+00,   0.00000000e+00,\n",
       "          2.00000000e+00,   2.80000000e+02,   2.00000000e+00],\n",
       "       [  1.56444530e+07,   0.00000000e+00,   1.81700000e+01,\n",
       "          1.00000000e+01,   1.00000000e+00,   1.10000000e+01,\n",
       "          8.00000000e+00,   1.65000000e-01,   0.00000000e+00,\n",
       "          0.00000000e+00,   0.00000000e+00,   0.00000000e+00,\n",
       "          2.00000000e+00,   3.40000000e+02,   1.00000000e+00],\n",
       "       [  1.56465940e+07,   0.00000000e+00,   1.59200000e+01,\n",
       "          2.87500000e+00,   2.00000000e+00,   1.10000000e+01,\n",
       "          4.00000000e+00,   8.50000000e-02,   0.00000000e+00,\n",
       "          0.00000000e+00,   0.00000000e+00,   0.00000000e+00,\n",
       "          2.00000000e+00,   1.20000000e+02,   1.00000000e+00],\n",
       "       [  1.56992380e+07,   0.00000000e+00,   2.25000000e+01,\n",
       "          8.46000000e+00,   1.00000000e+00,   1.40000000e+01,\n",
       "          4.00000000e+00,   2.46000000e+00,   0.00000000e+00,\n",
       "          0.00000000e+00,   0.00000000e+00,   0.00000000e+00,\n",
       "          2.00000000e+00,   1.64000000e+02,   1.00000000e+00],\n",
       "       [  1.55939590e+07,   0.00000000e+00,   2.17500000e+01,\n",
       "          1.75000000e+00,   1.00000000e+00,   5.00000000e+00,\n",
       "          3.00000000e+00,   0.00000000e+00,   0.00000000e+00,\n",
       "          0.00000000e+00,   0.00000000e+00,   0.00000000e+00,\n",
       "          2.00000000e+00,   1.60000000e+02,   1.00000000e+00],\n",
       "       [  1.55929990e+07,   0.00000000e+00,   3.17500000e+01,\n",
       "          3.00000000e+00,   1.00000000e+00,   5.00000000e+00,\n",
       "          3.00000000e+00,   0.00000000e+00,   0.00000000e+00,\n",
       "          0.00000000e+00,   0.00000000e+00,   0.00000000e+00,\n",
       "          2.00000000e+00,   1.60000000e+02,   2.10000000e+01],\n",
       "       [  1.55777710e+07,   0.00000000e+00,   2.95000000e+01,\n",
       "          1.08500000e+00,   1.00000000e+00,   1.40000000e+01,\n",
       "          4.00000000e+00,   1.00000000e+00,   0.00000000e+00,\n",
       "          0.00000000e+00,   0.00000000e+00,   0.00000000e+00,\n",
       "          2.00000000e+00,   2.80000000e+02,   1.40000000e+01],\n",
       "       [  1.55938340e+07,   0.00000000e+00,   1.63300000e+01,\n",
       "          2.10000000e-01,   2.00000000e+00,   6.00000000e+00,\n",
       "          4.00000000e+00,   1.25000000e-01,   0.00000000e+00,\n",
       "          0.00000000e+00,   0.00000000e+00,   0.00000000e+00,\n",
       "          2.00000000e+00,   2.00000000e+02,   2.00000000e+00],\n",
       "       [  1.55992720e+07,   0.00000000e+00,   3.36700000e+01,\n",
       "          3.75000000e-01,   2.00000000e+00,   1.30000000e+01,\n",
       "          4.00000000e+00,   3.75000000e-01,   0.00000000e+00,\n",
       "          0.00000000e+00,   0.00000000e+00,   0.00000000e+00,\n",
       "          2.00000000e+00,   3.00000000e+02,   4.50000000e+01],\n",
       "       [  1.56605280e+07,   0.00000000e+00,   2.19200000e+01,\n",
       "          1.16650000e+01,   2.00000000e+00,   4.00000000e+00,\n",
       "          8.00000000e+00,   8.50000000e-02,   0.00000000e+00,\n",
       "          0.00000000e+00,   0.00000000e+00,   0.00000000e+00,\n",
       "          2.00000000e+00,   3.20000000e+02,   6.00000000e+00],\n",
       "       [  1.57112990e+07,   0.00000000e+00,   2.26700000e+01,\n",
       "          3.35000000e-01,   2.00000000e+00,   1.10000000e+01,\n",
       "          4.00000000e+00,   7.50000000e-01,   0.00000000e+00,\n",
       "          0.00000000e+00,   0.00000000e+00,   0.00000000e+00,\n",
       "          1.00000000e+00,   1.60000000e+02,   1.00000000e+00],\n",
       "       [  1.56116820e+07,   0.00000000e+00,   2.00800000e+01,\n",
       "          1.25000000e+00,   2.00000000e+00,   8.00000000e+00,\n",
       "          4.00000000e+00,   0.00000000e+00,   0.00000000e+00,\n",
       "          0.00000000e+00,   0.00000000e+00,   0.00000000e+00,\n",
       "          2.00000000e+00,   0.00000000e+00,   1.00000000e+00],\n",
       "       [  1.56182580e+07,   0.00000000e+00,   2.27500000e+01,\n",
       "          6.16500000e+00,   2.00000000e+00,   6.00000000e+00,\n",
       "          4.00000000e+00,   1.65000000e-01,   0.00000000e+00,\n",
       "          0.00000000e+00,   0.00000000e+00,   0.00000000e+00,\n",
       "          2.00000000e+00,   2.20000000e+02,   1.00100000e+03]])"
      ]
     },
     "execution_count": 17,
     "metadata": {},
     "output_type": "execute_result"
    }
   ],
   "source": [
    "mappings = som.win_map(X)\n",
    "frauds = np.concatenate((mappings[(6,2)], mappings[(1,4)]), axis = 0)\n",
    "frauds = sc.inverse_transform(frauds)\n",
    "frauds"
   ]
  },
  {
   "cell_type": "code",
   "execution_count": 18,
   "metadata": {
    "collapsed": true
   },
   "outputs": [],
   "source": [
    "customers = dataset.iloc[:, 1:].values\n",
    "\n",
    "# Creating the dependent variable\n",
    "is_fraud = np.zeros(len(dataset))\n",
    "for i in range(len(dataset)):\n",
    "    if dataset.iloc[i,0] in frauds:\n",
    "        is_fraud[i] = 1"
   ]
  },
  {
   "cell_type": "code",
   "execution_count": 19,
   "metadata": {
    "collapsed": true
   },
   "outputs": [],
   "source": [
    "from sklearn.preprocessing import StandardScaler\n",
    "sc = StandardScaler()\n",
    "customers = sc.fit_transform(customers)"
   ]
  },
  {
   "cell_type": "code",
   "execution_count": 20,
   "metadata": {},
   "outputs": [
    {
     "name": "stderr",
     "output_type": "stream",
     "text": [
      "Using TensorFlow backend.\n"
     ]
    }
   ],
   "source": [
    "from keras.models import Sequential\n",
    "from keras.layers import Dense"
   ]
  },
  {
   "cell_type": "code",
   "execution_count": 21,
   "metadata": {},
   "outputs": [
    {
     "name": "stdout",
     "output_type": "stream",
     "text": [
      "Epoch 1/2\n",
      "690/690 [==============================] - 2s 2ms/step - loss: 0.4614 - acc: 0.9696\n",
      "Epoch 2/2\n",
      "690/690 [==============================] - 1s 2ms/step - loss: 0.1528 - acc: 0.9710\n"
     ]
    },
    {
     "data": {
      "text/plain": [
       "<keras.callbacks.History at 0x1a214b7550>"
      ]
     },
     "execution_count": 21,
     "metadata": {},
     "output_type": "execute_result"
    }
   ],
   "source": [
    "classifier = Sequential()\n",
    "\n",
    "# Adding the input layer and the first hidden layer\n",
    "classifier.add(Dense(units = 2, kernel_initializer = 'uniform', activation = 'relu', input_dim = 15))\n",
    "\n",
    "# Adding the output layer\n",
    "classifier.add(Dense(units = 1, kernel_initializer = 'uniform', activation = 'sigmoid'))\n",
    "\n",
    "# Compiling the ANN\n",
    "classifier.compile(optimizer = 'adam', loss = 'binary_crossentropy', metrics = ['accuracy'])\n",
    "\n",
    "# Fitting the ANN to the Training set\n",
    "classifier.fit(customers, is_fraud, batch_size = 1, epochs = 2)"
   ]
  },
  {
   "cell_type": "code",
   "execution_count": 23,
   "metadata": {},
   "outputs": [
    {
     "data": {
      "text/plain": [
       "array([[  1.57997850e+07,   2.74724443e-03],\n",
       "       [  1.56548590e+07,   3.59584996e-03],\n",
       "       [  1.56214230e+07,   3.91540350e-03],\n",
       "       ..., \n",
       "       [  1.56992380e+07,   2.67855048e-01],\n",
       "       [  1.56085950e+07,   2.70708919e-01],\n",
       "       [  1.56647930e+07,   3.08901280e-01]])"
      ]
     },
     "execution_count": 23,
     "metadata": {},
     "output_type": "execute_result"
    }
   ],
   "source": [
    "y_pred = classifier.predict(customers)\n",
    "y_pred = np.concatenate((dataset.iloc[:, 0:1].values, y_pred), axis = 1)\n",
    "y_pred = y_pred[y_pred[:, 1].argsort()]\n",
    "y_pred"
   ]
  },
  {
   "cell_type": "code",
   "execution_count": null,
   "metadata": {
    "collapsed": true
   },
   "outputs": [],
   "source": []
  }
 ],
 "metadata": {
  "kernelspec": {
   "display_name": "Python 3",
   "language": "python",
   "name": "python3"
  },
  "language_info": {
   "codemirror_mode": {
    "name": "ipython",
    "version": 3
   },
   "file_extension": ".py",
   "mimetype": "text/x-python",
   "name": "python",
   "nbconvert_exporter": "python",
   "pygments_lexer": "ipython3",
   "version": "3.6.3"
  }
 },
 "nbformat": 4,
 "nbformat_minor": 2
}
